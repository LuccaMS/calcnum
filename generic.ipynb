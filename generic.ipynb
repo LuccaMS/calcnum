{
 "cells": [
  {
   "cell_type": "markdown",
   "metadata": {},
   "source": [
    "Trabalho desenvolvido pelos seguintes alunos:\n",
    "Lucca Machado da Silva (19207083)\n",
    "Bernardo Pandolfi Costa (19207646)\n",
    "Heitor Henrique da Silva (19206261)"
   ]
  },
  {
   "cell_type": "code",
   "execution_count": 35,
   "metadata": {},
   "outputs": [],
   "source": [
    "import numpy as np\n",
    "import math"
   ]
  },
  {
   "cell_type": "code",
   "execution_count": 36,
   "metadata": {},
   "outputs": [],
   "source": [
    "#A função fixos irá definir os termos nas bordas, os quais são dados no enunciado do problema.\n",
    "def fixos(matrix):\n",
    "    size = matrix.shape[0]\n",
    "    for i in reversed(range(size)):\n",
    "        v = abs((i/(size-1))-1)\n",
    "        matrix[i][0] = round(-(v**2),3)\n",
    "        matrix[i][size-1] = round(1-(v**2),3)\n",
    "    \n",
    "    for i in range(0, size):\n",
    "        v = i*(1/(size-1))\n",
    "        matrix[size-1][i] = round(v**2,3)\n",
    "        matrix[0][i] = round((v**2) - 1,3)\n",
    "\n",
    "#A função fixos_sem_arredondar faz o mesmo, só que sem arredondar os valores.\n",
    "#Logo, a função fixos serve apenas para apresentar os valores de uma maneira mais legível.\n",
    "def fixos_sem_arredondar(matrix):\n",
    "    size = matrix.shape[0]\n",
    "    for i in reversed(range(size)):\n",
    "        v = abs((i/(size-1))-1)\n",
    "        matrix[i][0] = -(v**2)\n",
    "        matrix[i][size-1] = 1-(v**2)\n",
    "    \n",
    "    for i in range(0, size):\n",
    "        v = i*(1/(size-1))\n",
    "        matrix[size-1][i] = v**2\n",
    "        matrix[0][i] = (v**2) - 1"
   ]
  },
  {
   "cell_type": "code",
   "execution_count": 37,
   "metadata": {},
   "outputs": [],
   "source": [
    "#Criando a matrix para a solução, como o teste será com 40 sub intervalos, precisamos adicionar 41\n",
    "#seguindo a fórmula n+1, onde n é o número de sub intervalos.\n",
    "matrix = np.zeros((11,11))\n",
    "#Matrix 2 será uma copia da matrix, será usada para inserir a solução exata e calcular o erro.\n",
    "matrix2 = matrix.copy()"
   ]
  },
  {
   "cell_type": "code",
   "execution_count": 38,
   "metadata": {},
   "outputs": [],
   "source": [
    "fixos(matrix)\n",
    "matrix2 = matrix.copy()"
   ]
  },
  {
   "cell_type": "code",
   "execution_count": 39,
   "metadata": {},
   "outputs": [
    {
     "name": "stdout",
     "output_type": "stream",
     "text": [
      "[[-1.   -0.96 -0.84 -0.64 -0.36  0.  ]\n",
      " [-0.64  0.    0.    0.    0.    0.36]\n",
      " [-0.36  0.    0.    0.    0.    0.64]\n",
      " [-0.16  0.    0.    0.    0.    0.84]\n",
      " [-0.04  0.    0.    0.    0.    0.96]\n",
      " [ 0.    0.04  0.16  0.36  0.64  1.  ]]\n"
     ]
    }
   ],
   "source": [
    "#Exibindo como a matriz fica após calcular os valores nas bordas.\n",
    "print(matrix) #depois"
   ]
  },
  {
   "cell_type": "code",
   "execution_count": 40,
   "metadata": {},
   "outputs": [],
   "source": [
    "def solution(matrix):\n",
    "    size = matrix.shape[0] #tamanho da matriz\n",
    "    qtd_incognitas = (size-2)**2  #quantidade de incognitas\n",
    "\n",
    "    equations = np.array([[]]) \n",
    "    #o array equations será responsável por armazenar as incognitas de cada equação do sistema linear.\n",
    "    values = np.array([]) \n",
    "    #o array values será responsável por armazenar os valores (igualdade) de cada equação do sistema linear.\n",
    "\n",
    "    #o indice 1 das equations tem igualdade com o indice 1 dos values, assim em diante\n",
    "    \n",
    "    matrix_aux = np.zeros((size, size)) #matriz auxiliar para guardar a nomenclatura de cada variável\n",
    "\n",
    "    x = 1 #valor de inicio\n",
    "    for i in reversed(range(1, size-1)):\n",
    "        for j in range(1, size-1):\n",
    "            matrix_aux[i][j] = x\n",
    "            x += 1\n",
    "\n",
    "    #Acima criamos outra matriz para servir de referencia, tendo somente a nomenclatura de cada variável.\n",
    "\n",
    "    #agora, temos uma matriz com a nomenclatura de cada incognita, e a matriz com os valores do centro\n",
    "    \n",
    "    for i in reversed(range(1,size-1)):\n",
    "        #utilizamos reversed range aqui pois nosso sistema de coordenadas é invertido,\n",
    "        #matrizes no python começam com o termo [0][0] no canto superior esquerdo.\n",
    "        #enquanto para nós, o canto superior esquerdo é [n][n]\n",
    "\n",
    "        for j in range(1,size-1):\n",
    "            x = matrix[i-1][j] #termo acima do central\n",
    "            x2 = matrix[i][j+1] #termo a direita do central\n",
    "            x3 = matrix[i+1][j] #termo abaixo do central\n",
    "            x4 = matrix[i][j-1] #termo a esquerda do central\n",
    "\n",
    "            a = np.zeros((1,qtd_incognitas))\n",
    "            #na linha acima criamos uma equação do sistema linear com todos os coeficientes zerados.\n",
    "\n",
    "            total = 0\n",
    "            #a variável total será responsável por armazenar o somatório dos valores de igualdade.\n",
    "\n",
    "            #no if a seguir iremos verificar quais dos termos da borda são constantes\n",
    "\n",
    "            #a lógica de verificação se um termo é constante é a seguinte:\n",
    "            #se o termo for constante, ele estará nas bordas da matriz, os valores das bordas serão\n",
    "            # (i-1) == 0, (i+1) == size-1, (j-1) == 0, (j+1) == size-1\n",
    "            #o primeiro termo nos indica que estamos na última linha de variáveis, ou seja, valores acima são constantes\n",
    "            #o segundo termo nos indica que estamos na primeira linha de variáveis, ou seja, valores abaixo são constantes\n",
    "            #o terceiro termo nos indica que estamos na primeira coluna de variáveis, ou seja, valores a esquerda são constantes\n",
    "            #o quarto termo nos indica que estamos na última coluna de variáveis, ou seja, valores a direita são constantes\n",
    "\n",
    "            #vale salientar que i-1 é o termo acima e i+1 é o termo abaixo, devido ao de que nosso eixo de referencia (X) é o inverso do eixo de referencia do python\n",
    "\n",
    "            if(i-1 == 0): \n",
    "                total += x\n",
    "            else:\n",
    "                indice = matrix_aux[i-1][j] #esse indice é basicamente a nomenclatura da variável\n",
    "                a[0][int(indice-1)] = -1 #agora inserimos a variável no sitema linear, como ela não é a variável central, ela é -1\n",
    "            if(i+1 == size-1):\n",
    "                total += x3\n",
    "            else:\n",
    "                indice = matrix_aux[i+1][j]\n",
    "                a[0][int(indice-1)] = -1\n",
    "        \n",
    "            if(j-1 == 0):\n",
    "                total += x4\n",
    "            else:\n",
    "                indice = matrix_aux[i][j-1]\n",
    "                a[0][int(indice-1)] = -1   \n",
    "            \n",
    "            if(j+1 == size-1):\n",
    "                total += x2\n",
    "            else:\n",
    "                indice = matrix_aux[i][j+1]\n",
    "                a[0][int(indice-1)] = -1\n",
    "            \n",
    "            a[0][int(matrix_aux[i][j]-1)] = 4 #inserindo o termo central no sistema linear\n",
    "\n",
    "            equations = np.append(equations, a) #adicionando a equação recém gerada no sistema linear\n",
    "\n",
    "            values = np.append(values, total) #adicionando o valor da igualdade referente a equação gerada no sistema linear\n",
    "\n",
    "    equations = np.reshape(equations,(qtd_incognitas, qtd_incognitas)) #estamos fazendo pois queremos uma matrix e não um array\n",
    "    #originalmente o shape de equations era (qtd_incognitas**2), agora temos (qtd_incognitas, qtd_incognitas)\n",
    "\n",
    "    x = np.linalg.solve(equations, values) #resolvendo o sistema linear\n",
    "    x = np.reshape(x, (size-2, size-2)) #reorganizando a resposta em uma matrix\n",
    "\n",
    "    return x"
   ]
  },
  {
   "cell_type": "code",
   "execution_count": 41,
   "metadata": {},
   "outputs": [],
   "source": [
    "def exact(matrix2):\n",
    "    size = matrix2.shape[0]\n",
    "    for i in reversed(range(1,size-1)):\n",
    "        if i == size-2:\n",
    "            y = (1/int(size-1))\n",
    "        else: \n",
    "            y = abs((i/(size-1))-1)\n",
    "        for j in range(1, size-1):\n",
    "            x = j/(size-1)\n",
    "            matrix2[i][j] = (x**2 - y**2)\n",
    "\n"
   ]
  },
  {
   "cell_type": "code",
   "execution_count": 42,
   "metadata": {},
   "outputs": [],
   "source": [
    "exact(matrix2)"
   ]
  },
  {
   "cell_type": "code",
   "execution_count": 43,
   "metadata": {},
   "outputs": [],
   "source": [
    "#print(matrix2)"
   ]
  },
  {
   "cell_type": "code",
   "execution_count": 44,
   "metadata": {},
   "outputs": [
    {
     "name": "stdout",
     "output_type": "stream",
     "text": [
      "[[-6.00000000e-01 -4.80000000e-01 -2.80000000e-01 -3.34244417e-17]\n",
      " [-3.20000000e-01 -2.00000000e-01 -1.68102355e-17  2.80000000e-01]\n",
      " [-1.20000000e-01  2.44533309e-17  2.00000000e-01  4.80000000e-01]\n",
      " [-3.46944695e-18  1.20000000e-01  3.20000000e-01  6.00000000e-01]]\n"
     ]
    }
   ],
   "source": [
    "respo = solution(matrix)\n",
    "respo = np.flip(respo, 0)\n",
    "#além disso, ao resolver o sitema linear a matrix é invertida novamente, por isso precisamos invertela mais uma vez para podermos comparar a resposta mais facilmente.\n",
    "print(respo)"
   ]
  },
  {
   "cell_type": "code",
   "execution_count": 45,
   "metadata": {},
   "outputs": [
    {
     "name": "stdout",
     "output_type": "stream",
     "text": [
      "[[-0.6  -0.48 -0.28  0.  ]\n",
      " [-0.32 -0.2   0.    0.28]\n",
      " [-0.12  0.    0.2   0.48]\n",
      " [ 0.    0.12  0.32  0.6 ]]\n"
     ]
    }
   ],
   "source": [
    "size = matrix2.shape[0]\n",
    "matrix2 = np.delete(matrix2, 0, 0)\n",
    "matrix2 = np.delete(matrix2, size-2, 0)\n",
    "matrix2 = np.delete(matrix2, 0, 1)\n",
    "matrix2 = np.delete(matrix2, size-2, 1)\n",
    "#acima, deletamos os valores fixos da matrix2, para que possamos comparar com a resposta do sistema linear calculada.\n",
    "print(matrix2)"
   ]
  },
  {
   "cell_type": "code",
   "execution_count": 46,
   "metadata": {},
   "outputs": [
    {
     "name": "stdout",
     "output_type": "stream",
     "text": [
      "0.0\n"
     ]
    }
   ],
   "source": [
    "\n",
    "erro = 0\n",
    "sumrespo = 0\n",
    "summatrix = 0\n",
    "\n",
    "for i in range(len(respo)):\n",
    "    for j in range(len(respo)):\n",
    "        sumrespo = sumrespo + abs(respo[i][j])\n",
    "        summatrix = summatrix + abs(matrix2[i][j])\n",
    "\n",
    "erro = abs(sumrespo - summatrix)\n",
    "\n",
    "print(erro)"
   ]
  }
 ],
 "metadata": {
  "kernelspec": {
   "display_name": "Python 3.10.0 64-bit",
   "language": "python",
   "name": "python3"
  },
  "language_info": {
   "codemirror_mode": {
    "name": "ipython",
    "version": 3
   },
   "file_extension": ".py",
   "mimetype": "text/x-python",
   "name": "python",
   "nbconvert_exporter": "python",
   "pygments_lexer": "ipython3",
   "version": "3.10.0"
  },
  "orig_nbformat": 4,
  "vscode": {
   "interpreter": {
    "hash": "25546758498eb315c698ae46b8c183107105e42ace0db9597b3bc8e5bf61efb6"
   }
  }
 },
 "nbformat": 4,
 "nbformat_minor": 2
}
