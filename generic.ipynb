{
 "cells": [
  {
   "cell_type": "code",
   "execution_count": 183,
   "metadata": {},
   "outputs": [],
   "source": [
    "#in this notebook we are going to do a descretization of differential equations\n",
    "#this is a termo-dynamic equilibrium problem, in which the extreme values of the matrix are known, we have to find the values of the matrix in the middle"
   ]
  },
  {
   "cell_type": "code",
   "execution_count": 184,
   "metadata": {},
   "outputs": [],
   "source": [
    "import numpy as np\n",
    "import math"
   ]
  },
  {
   "cell_type": "code",
   "execution_count": 185,
   "metadata": {},
   "outputs": [],
   "source": [
    "#in the functions fixos we are just calculating the values of the matrix in the extreme points\n",
    "def fixos(matrix):\n",
    "    size = matrix.shape[0]\n",
    "    for i in reversed(range(size)):\n",
    "        v = abs((i/(size-1))-1)\n",
    "        matrix[i][0] = round(-(v**2),3)\n",
    "        matrix[i][size-1] = round(1-(v**2),3)\n",
    "    \n",
    "    for i in range(0, size):\n",
    "        v = i*(1/(size-1))#generalizando\n",
    "        matrix[size-1][i] = round(v**2,3)\n",
    "        matrix[0][i] = round((v**2) - 1,3)\n",
    "\n",
    "def fixos_sem_arredondar(matrix):\n",
    "    size = matrix.shape[0]\n",
    "    for i in reversed(range(size)):\n",
    "        v = abs((i/(size-1))-1)\n",
    "        matrix[i][0] = -(v**2)\n",
    "        matrix[i][size-1] = 1-(v**2)\n",
    "    \n",
    "    for i in range(0, size):\n",
    "        v = i*(1/(size-1))#generalizando\n",
    "        matrix[size-1][i] = v**2\n",
    "        matrix[0][i] = (v**2) - 1"
   ]
  },
  {
   "cell_type": "code",
   "execution_count": 186,
   "metadata": {},
   "outputs": [],
   "source": [
    "#now we are declaring the matrix, but be aware that the therms in the midle are not known yet\n",
    "matrix = np.zeros((11,11))\n",
    "matrix2 = matrix.copy()\n",
    "\n",
    "#para qualquer que seja o n, adicione um, por exemplo, n = 5 -> 6x6"
   ]
  },
  {
   "cell_type": "code",
   "execution_count": 187,
   "metadata": {},
   "outputs": [
    {
     "name": "stdout",
     "output_type": "stream",
     "text": [
      "[[0. 0. 0. 0. 0. 0. 0. 0. 0. 0. 0.]\n",
      " [0. 0. 0. 0. 0. 0. 0. 0. 0. 0. 0.]\n",
      " [0. 0. 0. 0. 0. 0. 0. 0. 0. 0. 0.]\n",
      " [0. 0. 0. 0. 0. 0. 0. 0. 0. 0. 0.]\n",
      " [0. 0. 0. 0. 0. 0. 0. 0. 0. 0. 0.]\n",
      " [0. 0. 0. 0. 0. 0. 0. 0. 0. 0. 0.]\n",
      " [0. 0. 0. 0. 0. 0. 0. 0. 0. 0. 0.]\n",
      " [0. 0. 0. 0. 0. 0. 0. 0. 0. 0. 0.]\n",
      " [0. 0. 0. 0. 0. 0. 0. 0. 0. 0. 0.]\n",
      " [0. 0. 0. 0. 0. 0. 0. 0. 0. 0. 0.]\n",
      " [0. 0. 0. 0. 0. 0. 0. 0. 0. 0. 0.]]\n"
     ]
    }
   ],
   "source": [
    "print(matrix) #antes"
   ]
  },
  {
   "cell_type": "code",
   "execution_count": 188,
   "metadata": {},
   "outputs": [],
   "source": [
    "fixos(matrix)\n",
    "matrix2 = matrix.copy()"
   ]
  },
  {
   "cell_type": "code",
   "execution_count": 189,
   "metadata": {},
   "outputs": [
    {
     "name": "stdout",
     "output_type": "stream",
     "text": [
      "[[-1.   -0.99 -0.96 -0.91 -0.84 -0.75 -0.64 -0.51 -0.36 -0.19  0.  ]\n",
      " [-0.81  0.    0.    0.    0.    0.    0.    0.    0.    0.    0.19]\n",
      " [-0.64  0.    0.    0.    0.    0.    0.    0.    0.    0.    0.36]\n",
      " [-0.49  0.    0.    0.    0.    0.    0.    0.    0.    0.    0.51]\n",
      " [-0.36  0.    0.    0.    0.    0.    0.    0.    0.    0.    0.64]\n",
      " [-0.25  0.    0.    0.    0.    0.    0.    0.    0.    0.    0.75]\n",
      " [-0.16  0.    0.    0.    0.    0.    0.    0.    0.    0.    0.84]\n",
      " [-0.09  0.    0.    0.    0.    0.    0.    0.    0.    0.    0.91]\n",
      " [-0.04  0.    0.    0.    0.    0.    0.    0.    0.    0.    0.96]\n",
      " [-0.01  0.    0.    0.    0.    0.    0.    0.    0.    0.    0.99]\n",
      " [ 0.    0.01  0.04  0.09  0.16  0.25  0.36  0.49  0.64  0.81  1.  ]]\n"
     ]
    }
   ],
   "source": [
    "print(matrix) #depois"
   ]
  },
  {
   "cell_type": "code",
   "execution_count": 190,
   "metadata": {},
   "outputs": [],
   "source": [
    "def solution(matrix):\n",
    "    size = matrix.shape[0] #tamanho da matriz\n",
    "    qtd_incognitas = (size-2)**2  #quantidade de incognitas\n",
    "\n",
    "    equations = np.array([[]]) #parte da \"esquerda\" da equação, somente variáveis\n",
    "    #remember that equations will be a 16x16 matrix\n",
    "    values = np.array([]) #parte da \"direita\" da equação, somente valores\n",
    "\n",
    "    #o indice 1 das equations tem igualdade com o indice 1 dos values, assim em diante\n",
    "    \n",
    "    matrix_aux = np.zeros((size, size)) #matriz auxiliar para guardar a nomenclatura de cada variável\n",
    "\n",
    "    x = 1 #valor de inicio\n",
    "    for i in reversed(range(1, size-1)):\n",
    "        for j in range(1, size-1):\n",
    "            matrix_aux[i][j] = x\n",
    "            x += 1\n",
    "\n",
    "    #agora, temos uma matriz com a nomenclatura de cada incognita, e a matriz com os valores do centro\n",
    "    \n",
    "    for i in reversed(range(1,size-1)):\n",
    "        for j in range(1,size-1):\n",
    "            x = matrix[i-1][j] #termo acima do central\n",
    "            x2 = matrix[i][j+1] #termo a direita do central\n",
    "            x3 = matrix[i+1][j] #termo abaixo do central\n",
    "            x4 = matrix[i][j-1] #termo a esquerda do central\n",
    "\n",
    "            a = np.zeros((1,qtd_incognitas))\n",
    "            #print(len(a[0])) #exibindo o tamanho do vetor a\n",
    "            #a linha acima serve para inicarmos uma equação do sistema linear com todos os coeficientes zerados\n",
    "            total = 0\n",
    "            #no if a seguir iremos verificar quais dos termos da borda são constantes\n",
    "            if(i-1 == 0): #isso nos indica que o termo acima é uma constante, caso contrário é uma variável deve ser inserido no sistema linear como tal\n",
    "                total += x\n",
    "            else:\n",
    "                indice = matrix_aux[i-1][j] #essa linha contém qual variável o [i-1][j] representa no sistema linear\n",
    "                a[0][int(indice-1)] = -1 #aqui inserimos o coeficiente da variável no sistema linear\n",
    "            if(i+1 == size-1):\n",
    "                total += x3\n",
    "            else:\n",
    "                indice = matrix_aux[i+1][j]\n",
    "                a[0][int(indice-1)] = -1\n",
    "        \n",
    "            if(j-1 == 0):\n",
    "                total += x4\n",
    "            else:\n",
    "                indice = matrix_aux[i][j-1]\n",
    "                a[0][int(indice-1)] = -1   \n",
    "            \n",
    "            if(j+1 == size-1):\n",
    "                total += x2\n",
    "            else:\n",
    "                indice = matrix_aux[i][j+1]\n",
    "                a[0][int(indice-1)] = -1\n",
    "            \n",
    "            #agora iremos adicionar 4x o termo central, pois multiplicamos ambos os lados por 4x\n",
    "            a[0][int(matrix_aux[i][j]-1)] = 4\n",
    "            #agora iremos inserir a equação que está armazenada em a ao sistema linear equations, em seu respectivo indice\n",
    "            equations = np.append(equations, a)\n",
    "\n",
    "            values = np.append(values, total)\n",
    "    #vamos exibir a primeira equação armazenada no sistema linear equations\n",
    "    #viewing the shape of the matrix\n",
    "    equations = np.reshape(equations,(qtd_incognitas, qtd_incognitas))\n",
    "\n",
    "    x = np.linalg.solve(equations, values)\n",
    "    x = np.reshape(x, (size-2, size-2)) #reorganizando a resposta em uma matrix\n",
    "    for i in range(size-2):\n",
    "        for j in range(size-2):\n",
    "            x[i][j] = x[i][j]\n",
    "    #arredondando os valores para 3 casas decimais\n",
    "    return x"
   ]
  },
  {
   "cell_type": "code",
   "execution_count": 191,
   "metadata": {},
   "outputs": [],
   "source": [
    "def exact(matrix2):\n",
    "    size = matrix2.shape[0]\n",
    "    for i in reversed(range(1,size-1)):\n",
    "        if i == size-2:\n",
    "            y = (1/int(size-1))\n",
    "        else: \n",
    "            y = abs((i/(size-1))-1)\n",
    "        for j in range(1, size-1):\n",
    "            x = j/(size-1)\n",
    "            matrix2[i][j] = (x**2 - y**2)\n",
    "\n"
   ]
  },
  {
   "cell_type": "code",
   "execution_count": 192,
   "metadata": {},
   "outputs": [],
   "source": [
    "exact(matrix2)"
   ]
  },
  {
   "cell_type": "code",
   "execution_count": 193,
   "metadata": {},
   "outputs": [],
   "source": [
    "#print(matrix2)"
   ]
  },
  {
   "cell_type": "code",
   "execution_count": 194,
   "metadata": {},
   "outputs": [
    {
     "name": "stdout",
     "output_type": "stream",
     "text": [
      "[[-8.00000000e-01 -7.70000000e-01 -7.20000000e-01 -6.50000000e-01\n",
      "  -5.60000000e-01 -4.50000000e-01 -3.20000000e-01 -1.70000000e-01\n",
      "   3.35587896e-17]\n",
      " [-6.30000000e-01 -6.00000000e-01 -5.50000000e-01 -4.80000000e-01\n",
      "  -3.90000000e-01 -2.80000000e-01 -1.50000000e-01  5.98209891e-17\n",
      "   1.70000000e-01]\n",
      " [-4.80000000e-01 -4.50000000e-01 -4.00000000e-01 -3.30000000e-01\n",
      "  -2.40000000e-01 -1.30000000e-01  1.71630719e-17  1.50000000e-01\n",
      "   3.20000000e-01]\n",
      " [-3.50000000e-01 -3.20000000e-01 -2.70000000e-01 -2.00000000e-01\n",
      "  -1.10000000e-01  0.00000000e+00  1.30000000e-01  2.80000000e-01\n",
      "   4.50000000e-01]\n",
      " [-2.40000000e-01 -2.10000000e-01 -1.60000000e-01 -9.00000000e-02\n",
      "   5.13725085e-17  1.10000000e-01  2.40000000e-01  3.90000000e-01\n",
      "   5.60000000e-01]\n",
      " [-1.50000000e-01 -1.20000000e-01 -7.00000000e-02  6.81419072e-17\n",
      "   9.00000000e-02  2.00000000e-01  3.30000000e-01  4.80000000e-01\n",
      "   6.50000000e-01]\n",
      " [-8.00000000e-02 -5.00000000e-02  5.05281268e-17  7.00000000e-02\n",
      "   1.60000000e-01  2.70000000e-01  4.00000000e-01  5.50000000e-01\n",
      "   7.20000000e-01]\n",
      " [-3.00000000e-02  2.03785027e-17  5.00000000e-02  1.20000000e-01\n",
      "   2.10000000e-01  3.20000000e-01  4.50000000e-01  6.00000000e-01\n",
      "   7.70000000e-01]\n",
      " [ 4.33680869e-18  3.00000000e-02  8.00000000e-02  1.50000000e-01\n",
      "   2.40000000e-01  3.50000000e-01  4.80000000e-01  6.30000000e-01\n",
      "   8.00000000e-01]]\n"
     ]
    }
   ],
   "source": [
    "respo = solution(matrix)\n",
    "#a matrix está invertida, precisamos inverter ela, ou seja, a primeira linha deve ser a última.\n",
    "respo = np.flip(respo, 0)\n",
    "print(respo)"
   ]
  },
  {
   "cell_type": "code",
   "execution_count": 195,
   "metadata": {},
   "outputs": [
    {
     "name": "stdout",
     "output_type": "stream",
     "text": [
      "[[-8.00000000e-01 -7.70000000e-01 -7.20000000e-01 -6.50000000e-01\n",
      "  -5.60000000e-01 -4.50000000e-01 -3.20000000e-01 -1.70000000e-01\n",
      "   0.00000000e+00]\n",
      " [-6.30000000e-01 -6.00000000e-01 -5.50000000e-01 -4.80000000e-01\n",
      "  -3.90000000e-01 -2.80000000e-01 -1.50000000e-01  0.00000000e+00\n",
      "   1.70000000e-01]\n",
      " [-4.80000000e-01 -4.50000000e-01 -4.00000000e-01 -3.30000000e-01\n",
      "  -2.40000000e-01 -1.30000000e-01  0.00000000e+00  1.50000000e-01\n",
      "   3.20000000e-01]\n",
      " [-3.50000000e-01 -3.20000000e-01 -2.70000000e-01 -2.00000000e-01\n",
      "  -1.10000000e-01  0.00000000e+00  1.30000000e-01  2.80000000e-01\n",
      "   4.50000000e-01]\n",
      " [-2.40000000e-01 -2.10000000e-01 -1.60000000e-01 -9.00000000e-02\n",
      "   0.00000000e+00  1.10000000e-01  2.40000000e-01  3.90000000e-01\n",
      "   5.60000000e-01]\n",
      " [-1.50000000e-01 -1.20000000e-01 -7.00000000e-02  0.00000000e+00\n",
      "   9.00000000e-02  2.00000000e-01  3.30000000e-01  4.80000000e-01\n",
      "   6.50000000e-01]\n",
      " [-8.00000000e-02 -5.00000000e-02 -2.77555756e-17  7.00000000e-02\n",
      "   1.60000000e-01  2.70000000e-01  4.00000000e-01  5.50000000e-01\n",
      "   7.20000000e-01]\n",
      " [-3.00000000e-02  2.77555756e-17  5.00000000e-02  1.20000000e-01\n",
      "   2.10000000e-01  3.20000000e-01  4.50000000e-01  6.00000000e-01\n",
      "   7.70000000e-01]\n",
      " [ 0.00000000e+00  3.00000000e-02  8.00000000e-02  1.50000000e-01\n",
      "   2.40000000e-01  3.50000000e-01  4.80000000e-01  6.30000000e-01\n",
      "   8.00000000e-01]]\n",
      "(9, 9)\n"
     ]
    }
   ],
   "source": [
    "#para verificar mais facilmente se a solução está correta, vamos excluir a primeira e útlima colunas da matrix2, além da primeira e última linha\n",
    "size = matrix2.shape[0]\n",
    "matrix2 = np.delete(matrix2, 0, 0)\n",
    "matrix2 = np.delete(matrix2, size-2, 0)\n",
    "matrix2 = np.delete(matrix2, 0, 1)\n",
    "matrix2 = np.delete(matrix2, size-2, 1)\n",
    "print(matrix2)\n",
    "print(matrix2.shape)"
   ]
  },
  {
   "cell_type": "code",
   "execution_count": 196,
   "metadata": {},
   "outputs": [
    {
     "name": "stdout",
     "output_type": "stream",
     "text": [
      "3.552713678800501e-15\n"
     ]
    }
   ],
   "source": [
    "#para achar o erro iremos somar todos os valores absolutos da diferença entre a solução e a resposta exata\n",
    "erro = 0\n",
    "sumrespo = 0\n",
    "summatrix = 0\n",
    "#iremos usar len(respo) porque as duas matrizes tem o mesmo tamanho agora\n",
    "for i in range(len(respo)):\n",
    "    for j in range(len(respo)):\n",
    "        sumrespo = sumrespo + abs(respo[i][j])\n",
    "        summatrix = summatrix + abs(matrix2[i][j])\n",
    "\n",
    "erro = abs(sumrespo - summatrix)\n",
    "\n",
    "print(erro)"
   ]
  }
 ],
 "metadata": {
  "kernelspec": {
   "display_name": "Python 3.10.0 64-bit",
   "language": "python",
   "name": "python3"
  },
  "language_info": {
   "codemirror_mode": {
    "name": "ipython",
    "version": 3
   },
   "file_extension": ".py",
   "mimetype": "text/x-python",
   "name": "python",
   "nbconvert_exporter": "python",
   "pygments_lexer": "ipython3",
   "version": "3.10.0"
  },
  "orig_nbformat": 4,
  "vscode": {
   "interpreter": {
    "hash": "25546758498eb315c698ae46b8c183107105e42ace0db9597b3bc8e5bf61efb6"
   }
  }
 },
 "nbformat": 4,
 "nbformat_minor": 2
}
