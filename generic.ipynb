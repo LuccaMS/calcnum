{
 "cells": [
  {
   "cell_type": "code",
   "execution_count": 16,
   "metadata": {},
   "outputs": [],
   "source": [
    "#in this notebook we are going to do a descretization of differential equations\n",
    "#this is a termo-dynamic equilibrium problem, in which the extreme values of the matrix are known, we have to find the values of the matrix in the middle"
   ]
  },
  {
   "cell_type": "code",
   "execution_count": 17,
   "metadata": {},
   "outputs": [],
   "source": [
    "import numpy as np\n",
    "import math"
   ]
  },
  {
   "cell_type": "code",
   "execution_count": 18,
   "metadata": {},
   "outputs": [],
   "source": [
    "#in the functions fixos we are just calculating the values of the matrix in the extreme points\n",
    "def fixos(matrix):\n",
    "    size = matrix.shape[0]\n",
    "    for i in reversed(range(size)):\n",
    "        v = abs((i/(size-1))-1)\n",
    "        matrix[i][0] = round(-(v**2),3)\n",
    "        matrix[i][size-1] = round(1-(v**2),3)\n",
    "    \n",
    "    for i in range(0, size):\n",
    "        v = i*(1/(size-1))#generalizando\n",
    "        matrix[size-1][i] = round(v**2,3)\n",
    "        matrix[0][i] = round((v**2) - 1,3)\n",
    "\n",
    "#in the function discretize we are calculating the values of the matrix in the middle points, a point is the average of the four points around it\n",
    "def discretize(matrix):\n",
    "    size = matrix.shape[0]\n",
    "    for i in range(1, size-1):\n",
    "        for j in range(1, size-1):\n",
    "            matrix[i][j] = round((matrix[i+1][j] + matrix[i-1][j] + matrix[i][j+1] + matrix[i][j-1])/4,3)"
   ]
  },
  {
   "cell_type": "code",
   "execution_count": 19,
   "metadata": {},
   "outputs": [],
   "source": [
    "#now we are declaring the matrix, but be aware that the therms in the midle are not known yet\n",
    "matrix = np.ones((11,11))\n",
    "\n",
    "#para qualquer que seja o n, adicione um, por exemplo, n = 5 -> 6x6"
   ]
  },
  {
   "cell_type": "code",
   "execution_count": 20,
   "metadata": {},
   "outputs": [
    {
     "name": "stdout",
     "output_type": "stream",
     "text": [
      "[[1. 1. 1. 1. 1. 1. 1. 1. 1. 1. 1.]\n",
      " [1. 1. 1. 1. 1. 1. 1. 1. 1. 1. 1.]\n",
      " [1. 1. 1. 1. 1. 1. 1. 1. 1. 1. 1.]\n",
      " [1. 1. 1. 1. 1. 1. 1. 1. 1. 1. 1.]\n",
      " [1. 1. 1. 1. 1. 1. 1. 1. 1. 1. 1.]\n",
      " [1. 1. 1. 1. 1. 1. 1. 1. 1. 1. 1.]\n",
      " [1. 1. 1. 1. 1. 1. 1. 1. 1. 1. 1.]\n",
      " [1. 1. 1. 1. 1. 1. 1. 1. 1. 1. 1.]\n",
      " [1. 1. 1. 1. 1. 1. 1. 1. 1. 1. 1.]\n",
      " [1. 1. 1. 1. 1. 1. 1. 1. 1. 1. 1.]\n",
      " [1. 1. 1. 1. 1. 1. 1. 1. 1. 1. 1.]]\n"
     ]
    }
   ],
   "source": [
    "print(matrix) #antes"
   ]
  },
  {
   "cell_type": "code",
   "execution_count": 21,
   "metadata": {},
   "outputs": [],
   "source": [
    "fixos(matrix) #função\n",
    "matrix2 = matrix.copy()"
   ]
  },
  {
   "cell_type": "code",
   "execution_count": 22,
   "metadata": {},
   "outputs": [
    {
     "name": "stdout",
     "output_type": "stream",
     "text": [
      "[[-1.   -0.99 -0.96 -0.91 -0.84 -0.75 -0.64 -0.51 -0.36 -0.19  0.  ]\n",
      " [-0.81  1.    1.    1.    1.    1.    1.    1.    1.    1.    0.19]\n",
      " [-0.64  1.    1.    1.    1.    1.    1.    1.    1.    1.    0.36]\n",
      " [-0.49  1.    1.    1.    1.    1.    1.    1.    1.    1.    0.51]\n",
      " [-0.36  1.    1.    1.    1.    1.    1.    1.    1.    1.    0.64]\n",
      " [-0.25  1.    1.    1.    1.    1.    1.    1.    1.    1.    0.75]\n",
      " [-0.16  1.    1.    1.    1.    1.    1.    1.    1.    1.    0.84]\n",
      " [-0.09  1.    1.    1.    1.    1.    1.    1.    1.    1.    0.91]\n",
      " [-0.04  1.    1.    1.    1.    1.    1.    1.    1.    1.    0.96]\n",
      " [-0.01  1.    1.    1.    1.    1.    1.    1.    1.    1.    0.99]\n",
      " [ 0.    0.01  0.04  0.09  0.16  0.25  0.36  0.49  0.64  0.81  1.  ]]\n"
     ]
    }
   ],
   "source": [
    "print(matrix) #depois"
   ]
  },
  {
   "cell_type": "code",
   "execution_count": 23,
   "metadata": {},
   "outputs": [],
   "source": [
    "def teste(matrix):\n",
    "    #now we are going to solve the linear system, we are going to use the gauss method\n",
    "    size = matrix.shape[0]\n",
    "    qtd_incognitas = (size-2)**2 \n",
    "    #creating a matrix with the size of incognitas\n",
    "    equations = np.array([[]])\n",
    "    values = np.array([])\n",
    "    # no loop abaixo nos certificamos que iremos obter somente os termos do centro.\n",
    "    for i in reversed(range(1,size-1)):\n",
    "        for j in range(1,size-1):\n",
    "            #agora iremos começar a montar o sistema linear, lembrando que o valor em ponto é a média aritimética dos pontos ao redor dele\n",
    "            #a quantidade de incognias é sempre (size-2)**2\n",
    "            #usando a biblioteca de sistemas lineares do numpy, podemos resolver o mesmo\n",
    "            #por exemplo, chamando o termo matrix[1][1] de x, o termo matrix[1][2] de x2, o termo matrix[2][1] de x3\n",
    "            #acharemos que x = (x2 + x3 + x4 + x5)/4 nos quais x4 e x5 são os termos definidos da fronteira, contudo, se o termo fosse central esses outros também\n",
    "            #seriam variáveis\n",
    "            #iremos declarar o x1 como o termo acima do x, o x2 como o termo a direita do x, o x3 como o termo abaixo do x e o x4 como o termo a esquerda do x\n",
    "            x = matrix[i-1][j] #-1 ao invés de 1 pq começamos invertidos\n",
    "            x2 = matrix[i][j+1]\n",
    "            x3 = matrix[i+1][j]\n",
    "            x4 = matrix[i][j-1]\n",
    "\n",
    "            a = np.zeros((1,qtd_incognitas))\n",
    "            #a linha acima serve para inicarmos uma equação do sistema linear com todos os coeficientes zerados\n",
    "            total = 0\n",
    "            #no if a seguir iremos verificar quais dos termos da borda são constantes\n",
    "\n",
    "            if(i-1 == 0 or j-1 == 0 or j+1 == size-1 or i+1 == size-1):\n",
    "                if(i-1 == 0):\n",
    "                    total = total + x\n",
    "                if(j-1 == 0):\n",
    "                    total = total + x4\n",
    "                if(j+1 == size-1):\n",
    "                    total = total + x2\n",
    "                if(i+1 == size-1):\n",
    "                    total = total + x3\n",
    "            \n",
    "            values = np.append(values, total)\n",
    "            # a parte de cima está workando\n",
    "\n",
    "            #we are going to insert the values that are not known yet in the equations\n",
    "    \n",
    "        \n",
    "\n",
    "\n",
    "            #o array equations conterá as variáveis de incognita, e o array values conterá os valores definidos(fronteiras), caso o termo seja central, o valor será 0\n",
    "            #lembrando que eles são correspondente com os indices\n",
    "\n",
    "\n",
    "\n",
    "            #agora iremos montar o sistema linear\n",
    "            #temos 16 incognitas, logo, 16 equações, todas as equações devem conter todos os termos, mesmos que com coeficiente 0, para que o sistema seja resolvido\n",
    "            \n",
    "            #lembrando que a matrix equations possue o lado esquerdo da igualdado, e a matrix values o lado direito, ou seja, podemos manter somente a variável\n",
    "            #que nos interessa na matrix equations, e os outros termos na matrix values, respeitando a ordem\n",
    "            #we have to fill the np array with zeros, except the therm that has the index equal to i, this index is going to be equal to 4\n",
    "            #for k in range((size-2)**2):\n",
    "            #    if k == (i-1):\n",
    "            #        a = np.append(a, 4)\n",
    "            #    else:\n",
    "            #        a = np.append(a, 0)\n",
    "            \n",
    "            #a linha acima nos garante que teremos a 4x a variável que queremos no lado esquerdo da equação, e do lado direito os termos os quais dependemos \n",
    "    print(values)\n",
    "\n",
    "    #vamos fazer o loop ao contrário, visto que\n",
    "         \n",
    "\n"
   ]
  },
  {
   "cell_type": "code",
   "execution_count": 24,
   "metadata": {},
   "outputs": [],
   "source": [
    "discretize(matrix)"
   ]
  },
  {
   "cell_type": "code",
   "execution_count": 25,
   "metadata": {},
   "outputs": [
    {
     "name": "stdout",
     "output_type": "stream",
     "text": [
      "[[-1.    -0.99  -0.96  -0.91  -0.84  -0.75  -0.64  -0.51  -0.36  -0.19\n",
      "   0.   ]\n",
      " [-0.81   0.05   0.272  0.34   0.375  0.406  0.442  0.483  0.531  0.383\n",
      "   0.19 ]\n",
      " [-0.64   0.352  0.656  0.749  0.781  0.797  0.81   0.823  0.838  0.645\n",
      "   0.36 ]\n",
      " [-0.49   0.465  0.78   0.882  0.916  0.928  0.934  0.939  0.944  0.775\n",
      "   0.51 ]\n",
      " [-0.36   0.526  0.826  0.927  0.961  0.972  0.976  0.979  0.981  0.849\n",
      "   0.64 ]\n",
      " [-0.25   0.569  0.849  0.944  0.976  0.987  0.991  0.992  0.993  0.898\n",
      "   0.75 ]\n",
      " [-0.16   0.602  0.863  0.952  0.982  0.992  0.996  0.997  0.997  0.934\n",
      "   0.84 ]\n",
      " [-0.09   0.628  0.873  0.956  0.984  0.994  0.998  0.999  0.999  0.961\n",
      "   0.91 ]\n",
      " [-0.04   0.647  0.88   0.959  0.986  0.995  0.998  0.999  1.     0.98\n",
      "   0.96 ]\n",
      " [-0.01   0.412  0.583  0.658  0.701  0.736  0.774  0.816  0.864  0.911\n",
      "   0.99 ]\n",
      " [ 0.     0.01   0.04   0.09   0.16   0.25   0.36   0.49   0.64   0.81\n",
      "   1.   ]]\n"
     ]
    }
   ],
   "source": [
    "print(matrix) #depois"
   ]
  },
  {
   "cell_type": "code",
   "execution_count": 26,
   "metadata": {},
   "outputs": [],
   "source": [
    "#now we are going the exact matrix, we know that the values in each point respect te function f(x,y) = x^2 - y^2\n",
    "def exact(matrix2):\n",
    "    size = matrix2.shape[0]\n",
    "    for i in reversed(range(1,size-1)):\n",
    "        if i == size-2:\n",
    "            y = (1/int(size-1))\n",
    "        else: \n",
    "            y = abs((i/(size-1))-1)\n",
    "        for j in range(1, size-1):\n",
    "            x = j/(size-1)\n",
    "            matrix2[i][j] = round((x**2 - y**2), 3)\n",
    "\n"
   ]
  },
  {
   "cell_type": "code",
   "execution_count": 27,
   "metadata": {},
   "outputs": [],
   "source": [
    "exact(matrix2)"
   ]
  },
  {
   "cell_type": "code",
   "execution_count": 28,
   "metadata": {},
   "outputs": [
    {
     "name": "stdout",
     "output_type": "stream",
     "text": [
      "[[-1.   -0.99 -0.96 -0.91 -0.84 -0.75 -0.64 -0.51 -0.36 -0.19  0.  ]\n",
      " [-0.81 -0.8  -0.77 -0.72 -0.65 -0.56 -0.45 -0.32 -0.17  0.    0.19]\n",
      " [-0.64 -0.63 -0.6  -0.55 -0.48 -0.39 -0.28 -0.15  0.    0.17  0.36]\n",
      " [-0.49 -0.48 -0.45 -0.4  -0.33 -0.24 -0.13  0.    0.15  0.32  0.51]\n",
      " [-0.36 -0.35 -0.32 -0.27 -0.2  -0.11  0.    0.13  0.28  0.45  0.64]\n",
      " [-0.25 -0.24 -0.21 -0.16 -0.09  0.    0.11  0.24  0.39  0.56  0.75]\n",
      " [-0.16 -0.15 -0.12 -0.07  0.    0.09  0.2   0.33  0.48  0.65  0.84]\n",
      " [-0.09 -0.08 -0.05 -0.    0.07  0.16  0.27  0.4   0.55  0.72  0.91]\n",
      " [-0.04 -0.03  0.    0.05  0.12  0.21  0.32  0.45  0.6   0.77  0.96]\n",
      " [-0.01  0.    0.03  0.08  0.15  0.24  0.35  0.48  0.63  0.8   0.99]\n",
      " [ 0.    0.01  0.04  0.09  0.16  0.25  0.36  0.49  0.64  0.81  1.  ]]\n"
     ]
    }
   ],
   "source": [
    "print(matrix2)"
   ]
  },
  {
   "cell_type": "code",
   "execution_count": 29,
   "metadata": {},
   "outputs": [
    {
     "name": "stdout",
     "output_type": "stream",
     "text": [
      "[ 0.    0.04  0.09  0.16  0.25  0.36  0.49  0.64  1.8  -0.04  0.    0.\n",
      "  0.    0.    0.    0.    0.    0.96 -0.09  0.    0.    0.    0.    0.\n",
      "  0.    0.    0.91 -0.16  0.    0.    0.    0.    0.    0.    0.    0.84\n",
      " -0.25  0.    0.    0.    0.    0.    0.    0.    0.75 -0.36  0.    0.\n",
      "  0.    0.    0.    0.    0.    0.64 -0.49  0.    0.    0.    0.    0.\n",
      "  0.    0.    0.51 -0.64  0.    0.    0.    0.    0.    0.    0.    0.36\n",
      " -1.8  -0.96 -0.91 -0.84 -0.75 -0.64 -0.51 -0.36  0.  ]\n"
     ]
    }
   ],
   "source": [
    "teste(matrix2)"
   ]
  },
  {
   "cell_type": "code",
   "execution_count": 30,
   "metadata": {},
   "outputs": [
    {
     "name": "stdout",
     "output_type": "stream",
     "text": [
      "[[-1.   -0.99 -0.96 -0.91 -0.84 -0.75 -0.64 -0.51 -0.36 -0.19  0.  ]\n",
      " [-0.81 -0.8  -0.77 -0.72 -0.65 -0.56 -0.45 -0.32 -0.17  0.    0.19]\n",
      " [-0.64 -0.63 -0.6  -0.55 -0.48 -0.39 -0.28 -0.15  0.    0.17  0.36]\n",
      " [-0.49 -0.48 -0.45 -0.4  -0.33 -0.24 -0.13  0.    0.15  0.32  0.51]\n",
      " [-0.36 -0.35 -0.32 -0.27 -0.2  -0.11  0.    0.13  0.28  0.45  0.64]\n",
      " [-0.25 -0.24 -0.21 -0.16 -0.09  0.    0.11  0.24  0.39  0.56  0.75]\n",
      " [-0.16 -0.15 -0.12 -0.07  0.    0.09  0.2   0.33  0.48  0.65  0.84]\n",
      " [-0.09 -0.08 -0.05 -0.    0.07  0.16  0.27  0.4   0.55  0.72  0.91]\n",
      " [-0.04 -0.03  0.    0.05  0.12  0.21  0.32  0.45  0.6   0.77  0.96]\n",
      " [-0.01  0.    0.03  0.08  0.15  0.24  0.35  0.48  0.63  0.8   0.99]\n",
      " [ 0.    0.01  0.04  0.09  0.16  0.25  0.36  0.49  0.64  0.81  1.  ]]\n"
     ]
    }
   ],
   "source": [
    "print(matrix2)"
   ]
  }
 ],
 "metadata": {
  "kernelspec": {
   "display_name": "Python 3.10.0 64-bit",
   "language": "python",
   "name": "python3"
  },
  "language_info": {
   "codemirror_mode": {
    "name": "ipython",
    "version": 3
   },
   "file_extension": ".py",
   "mimetype": "text/x-python",
   "name": "python",
   "nbconvert_exporter": "python",
   "pygments_lexer": "ipython3",
   "version": "3.10.0"
  },
  "orig_nbformat": 4,
  "vscode": {
   "interpreter": {
    "hash": "25546758498eb315c698ae46b8c183107105e42ace0db9597b3bc8e5bf61efb6"
   }
  }
 },
 "nbformat": 4,
 "nbformat_minor": 2
}
